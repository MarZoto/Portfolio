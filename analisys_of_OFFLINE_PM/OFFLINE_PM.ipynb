{
 "cells": [
  {
   "cell_type": "markdown",
   "metadata": {
    "id": "xYJEI5NXgVuI"
   },
   "source": [
    "# Analyze offline payment method\n",
    "\n"
   ]
  },
  {
   "cell_type": "markdown",
   "metadata": {
    "id": "SUoJT7QwgVuS"
   },
   "source": [
    "#### Описание проекта\n",
    "Часть 1. Общий анализ\n",
    "\n",
    "    1.1 Какую долю Offline GMV составляет от всего GMV за год (2021).\n",
    "    1.2. Как эта доля ведет себя, если смотреть помесячно\n",
    "    2.1  То же самое, но отдельно по Direct  и Partners \n",
    "    3. Как все указанные выше параметры за 2021 соотносятся с 2020\n",
    "\n",
    "#### Часть 2. Дополнительные вопросы \n",
    "\n",
    "    1.Как использование offline pm зависит от вертикали.\n",
    "\n",
    "    2.Как использование offline pm зависит от тарифного плана. \n",
    "\n",
    "    3.Как использование offline pm зависит от страны. В каких странах больше всего используется offline pm (в абсолютном и относительном выражении).\n",
    "\n",
    "    4.Если магазин cash only , то  узнать, были ли у них ранее подключены онлайн платежи? Возможно, продавцы раньше принимали оплату онлайн, но им что-то не понравилось и они отказались от онлайн оплаты полностью. Нужны списки таких клиентов.\n",
    "\n",
    "    5.Как наличие offline pm коррелирует в методами доставки? Какие способы получения заказа доступны? \n",
    "\n",
    "   "
   ]
  },
  {
   "cell_type": "code",
   "execution_count": 1,
   "metadata": {
    "id": "FAdxTMi8gVug"
   },
   "outputs": [],
   "source": [
    "# Импортируем библиотеки\n",
    "import pandas as pd\n",
    "import numpy as np\n",
    "from IPython.display import display\n",
    "import plotly.express as px \n",
    "import matplotlib.pyplot as plt\n",
    "import seaborn as sns\n",
    "import scipy.stats as st\n",
    "from pandas.plotting import scatter_matrix\n",
    "import math\n",
    "#import random\n",
    "import sys\n",
    "import warnings\n",
    "if not sys.warnoptions:\n",
    "       warnings.simplefilter(\"ignore\")\n",
    "\n",
    "\n",
    "import requests\n",
    "import re\n",
    "from datetime import datetime"
   ]
  },
  {
   "cell_type": "code",
   "execution_count": 2,
   "metadata": {
    "id": "yO7lZ499gVul"
   },
   "outputs": [],
   "source": [
    "# Вывод всех строк таблицы на экран\n",
    "from IPython.display import display\n",
    "pd.options.display.float_format = '{:,.2f}'.format\n",
    "pd.set_option('display.max_colwidth', None)\n",
    "pd.options.display.max_rows = 50"
   ]
  },
  {
   "cell_type": "markdown",
   "metadata": {
    "id": "FB_WQzySgVur"
   },
   "source": [
    "# 1.Общая загрузка файлов"
   ]
  },
  {
   "cell_type": "code",
   "execution_count": null,
   "metadata": {},
   "outputs": [],
   "source": [
    "## Заливка  отчета по GMV за 2020-2021 год была из облака \n",
    "gmv_main_raw = pd.read_csv(input_file, sep='\\t')\n",
    "gmv_main_raw.head()"
   ]
  },
  {
   "cell_type": "code",
   "execution_count": null,
   "metadata": {},
   "outputs": [],
   "source": [
    "## Заливка отчета по GMV за январь 2022\n",
    "gmv_raw_jan2022 = pd.read_csv(input_file)\n",
    "gmv_raw_jan2022.head()"
   ]
  },
  {
   "cell_type": "code",
   "execution_count": null,
   "metadata": {},
   "outputs": [],
   "source": [
    "## Заливка отчета по активным магазинам в январе 2022\n",
    "pos_raw_jan2022 = pd.read_csv(input_file_2)\n",
    "pos_raw_jan2022.head()"
   ]
  },
  {
   "cell_type": "markdown",
   "metadata": {
    "id": "T2ICXLLJgVvJ"
   },
   "source": [
    "# 2.Предобработка данных\n"
   ]
  },
  {
   "cell_type": "markdown",
   "metadata": {
    "id": "7xInDt7xkI2-"
   },
   "source": [
    "## Предобработка отчета по GMV за 2020-2021 год"
   ]
  },
  {
   "cell_type": "code",
   "execution_count": 7,
   "metadata": {
    "id": "uqgh_en1gVvL"
   },
   "outputs": [],
   "source": [
    "# Заменим пробелы в названиях столбцов на _\n",
    "gmv_main_raw.columns = gmv_main_raw.columns.str.replace(' ', '_')"
   ]
  },
  {
   "cell_type": "code",
   "execution_count": 8,
   "metadata": {
    "colab": {
     "base_uri": "https://localhost:8080/"
    },
    "id": "mCt6knfIgVvN",
    "outputId": "fd195cde-b790-496f-f55e-e0c47c8d158f"
   },
   "outputs": [
    {
     "name": "stderr",
     "output_type": "stream",
     "text": [
      "/usr/local/lib/python3.7/dist-packages/ipykernel_launcher.py:1: FutureWarning: null_counts is deprecated. Use show_counts instead\n",
      "  \"\"\"Entry point for launching an IPython kernel.\n"
     ]
    },
    {
     "name": "stdout",
     "output_type": "stream",
     "text": [
      "<class 'pandas.core.frame.DataFrame'>\n",
      "RangeIndex: 2943804 entries, 0 to 2943803\n",
      "Data columns (total 36 columns):\n",
      " #   Column                         Non-Null Count    Dtype  \n",
      "---  ------                         --------------    -----  \n",
      " 0   period                         2943804 non-null  object \n",
      " 1   store_id                       2943804 non-null  int64  \n",
      " 2   hashed_store_id                2943804 non-null  object \n",
      " 3   channel_type                   2943804 non-null  object \n",
      " 4   channel_id                     2943804 non-null  object \n",
      " 5   plan_title                     2943804 non-null  object \n",
      " 6   plan_id                        2943804 non-null  object \n",
      " 7   renewal_period                 2943804 non-null  object \n",
      " 8   office_country                 2941828 non-null  object \n",
      " 9   office_state_/_province_code   2943804 non-null  object \n",
      " 10  office_geo_region              2943804 non-null  object \n",
      " 11  office_economic_region         1633076 non-null  object \n",
      " 12  billing_country                2943804 non-null  object \n",
      " 13  shipping_country               2943804 non-null  object \n",
      " 14  shipping-then-billing_country  2943804 non-null  object \n",
      " 15  payment_method                 2943804 non-null  object \n",
      " 16  checkout_page                  2943804 non-null  object \n",
      " 17  custom_payment_name            2943804 non-null  object \n",
      " 18  carrier                        869770 non-null   object \n",
      " 19  carrier_method                 2549711 non-null  object \n",
      " 20  vertical                       2943804 non-null  object \n",
      " 21  store_source                   2943804 non-null  object \n",
      " 22  store_source_group             2943804 non-null  object \n",
      " 23  order_utm_source               2943804 non-null  object \n",
      " 24  order_utm_medium               2943804 non-null  object \n",
      " 25  order_utm_campaign             2943804 non-null  object \n",
      " 26  signup_period                  2943804 non-null  object \n",
      " 27  ftu_period                     2943804 non-null  object \n",
      " 28  fttu_period                    2943804 non-null  object \n",
      " 29  store_currency                 2943804 non-null  object \n",
      " 30  with_shipping_label            2943804 non-null  object \n",
      " 31  is_paid_at_eop                 2943804 non-null  object \n",
      " 32  referer_url                    2943804 non-null  object \n",
      " 33  $_gmv                          2943804 non-null  float64\n",
      " 34  #_of_orders                    2943804 non-null  int64  \n",
      " 35  #_of_transacting_stores        2943804 non-null  int64  \n",
      "dtypes: float64(1), int64(3), object(32)\n",
      "memory usage: 808.5+ MB\n"
     ]
    }
   ],
   "source": [
    "gmv_main_raw.info(verbose=True, null_counts=True)"
   ]
  },
  {
   "cell_type": "code",
   "execution_count": 9,
   "metadata": {
    "id": "AOgH8XXIgVvO"
   },
   "outputs": [],
   "source": [
    "# Заменим название\n",
    "gmv_main_raw = gmv_main_raw.rename(columns={'$_gmv': 'gmv', \\\n",
    "                                            'office_country': 'country', \\\n",
    "                                            '#_of_orders': 'n_orders'})"
   ]
  },
  {
   "cell_type": "code",
   "execution_count": 10,
   "metadata": {
    "id": "ZMTIPnoagVvQ"
   },
   "outputs": [],
   "source": [
    "# Копирую нужные столбцы\n",
    "gmv_main = gmv_main_raw[['period', \\\n",
    "               'store_id', \\\n",
    "               'payment_method', \\\n",
    "               'channel_type', \\\n",
    "               'gmv', \\\n",
    "               'vertical', \\\n",
    "               'plan_title', \\\n",
    "               'country', \\\n",
    "              'carrier', \\\n",
    "              'carrier_method', \\\n",
    "               'signup_period' , \\\n",
    "              'n_orders']].copy()"
   ]
  },
  {
   "cell_type": "code",
   "execution_count": 11,
   "metadata": {
    "colab": {
     "base_uri": "https://localhost:8080/"
    },
    "id": "z6ct5AzegVvR",
    "outputId": "0044bc7c-6b7e-4dd8-a0d2-bee39012ae76"
   },
   "outputs": [
    {
     "data": {
      "text/plain": [
       "UNKNOWN           0.70\n",
       "<Pickup>          0.12\n",
       "U.S.P.S.          0.08\n",
       "USPS              0.02\n",
       "UPS               0.02\n",
       "                  ... \n",
       "Surepost Ground   0.00\n",
       "Colissimo         0.00\n",
       "quiken            0.00\n",
       "APC               0.00\n",
       "WRCJED014         0.00\n",
       "Name: carrier, Length: 275, dtype: float64"
      ]
     },
     "execution_count": 11,
     "metadata": {},
     "output_type": "execute_result"
    }
   ],
   "source": [
    "gmv_main['carrier'] = gmv_main['carrier'].fillna('UNKNOWN')\n",
    "\n",
    "gmv_main['carrier'].value_counts(normalize=True)"
   ]
  },
  {
   "cell_type": "code",
   "execution_count": 12,
   "metadata": {
    "id": "GUG7P0uNgVvS"
   },
   "outputs": [],
   "source": [
    "gmv_main['carrier_method'] = gmv_main['carrier_method'].fillna('UNKNOWN')"
   ]
  },
  {
   "cell_type": "code",
   "execution_count": null,
   "metadata": {},
   "outputs": [],
   "source": [
    "gmv_main['carrier_method'].value_counts()"
   ]
  },
  {
   "cell_type": "code",
   "execution_count": 14,
   "metadata": {
    "id": "KsDXwLEbgVvW"
   },
   "outputs": [],
   "source": [
    "# Замена вертикали - на категорию UNSPECIFIED\n",
    "gmv_main['vertical'] = gmv_main['vertical'].str.replace('-', 'UNSPECIFIED')"
   ]
  },
  {
   "cell_type": "code",
   "execution_count": null,
   "metadata": {},
   "outputs": [],
   "source": [
    "# Проверка\n",
    "gmv_main['vertical'].value_counts()"
   ]
  },
  {
   "cell_type": "code",
   "execution_count": 16,
   "metadata": {
    "colab": {
     "base_uri": "https://localhost:8080/"
    },
    "id": "OL2Iwkc8gVvb",
    "outputId": "ea70dc83-78f4-4407-c042-ae7d5606df84"
   },
   "outputs": [
    {
     "data": {
      "text/plain": [
       "UNSPECIFIED             0.61\n",
       "apparel                 0.07\n",
       "other                   0.05\n",
       "health                  0.05\n",
       "food_ecommerce          0.04\n",
       "toys                    0.02\n",
       "food_restaurant         0.02\n",
       "books                   0.02\n",
       "gifts                   0.02\n",
       "services                0.01\n",
       "sports                  0.01\n",
       "art                     0.01\n",
       "jewelry                 0.01\n",
       "electronics             0.01\n",
       "hardware                0.01\n",
       "home                    0.01\n",
       "pet                     0.01\n",
       "auto                    0.01\n",
       "notsure                 0.01\n",
       "food                    0.00\n",
       "tobacco                 0.00\n",
       "office                  0.00\n",
       "adult                   0.00\n",
       "streaming               0.00\n",
       "subscription_products   0.00\n",
       "What are you selling    0.00\n",
       "Name: vertical, dtype: float64"
      ]
     },
     "execution_count": 16,
     "metadata": {},
     "output_type": "execute_result"
    }
   ],
   "source": [
    "# смотрим % соотношение\n",
    "gmv_main['vertical'].value_counts(normalize=True)"
   ]
  },
  {
   "cell_type": "code",
   "execution_count": null,
   "metadata": {},
   "outputs": [],
   "source": [
    "gmv_main['country'].value_counts().head(10)"
   ]
  },
  {
   "cell_type": "code",
   "execution_count": null,
   "metadata": {},
   "outputs": [],
   "source": [
    "# Смотрим % соотношение\n",
    "gmv_main['country'].value_counts(normalize=True).head(10)"
   ]
  },
  {
   "cell_type": "code",
   "execution_count": 19,
   "metadata": {
    "id": "Yqi0sz6OgVvf"
   },
   "outputs": [],
   "source": [
    "# Перевод period в формат даты\n",
    "gmv_main['period_new'] = pd.to_datetime(gmv_main['period'])"
   ]
  },
  {
   "cell_type": "code",
   "execution_count": 20,
   "metadata": {
    "colab": {
     "base_uri": "https://localhost:8080/"
    },
    "id": "Yme68--BgVvg",
    "outputId": "083ee8fe-eaee-4c3c-9e50-03e794f6c805"
   },
   "outputs": [
    {
     "name": "stdout",
     "output_type": "stream",
     "text": [
      "<class 'pandas.core.frame.DataFrame'>\n",
      "RangeIndex: 2943804 entries, 0 to 2943803\n",
      "Data columns (total 13 columns):\n",
      " #   Column          Dtype         \n",
      "---  ------          -----         \n",
      " 0   period          object        \n",
      " 1   store_id        int64         \n",
      " 2   payment_method  object        \n",
      " 3   channel_type    object        \n",
      " 4   gmv             float64       \n",
      " 5   vertical        object        \n",
      " 6   plan_title      object        \n",
      " 7   country         object        \n",
      " 8   carrier         object        \n",
      " 9   carrier_method  object        \n",
      " 10  signup_period   object        \n",
      " 11  n_orders        int64         \n",
      " 12  period_new      datetime64[ns]\n",
      "dtypes: datetime64[ns](1), float64(1), int64(2), object(9)\n",
      "memory usage: 292.0+ MB\n"
     ]
    }
   ],
   "source": [
    "gmv_main.info()"
   ]
  },
  {
   "cell_type": "code",
   "execution_count": 21,
   "metadata": {
    "id": "X97LOv5SgVvh"
   },
   "outputs": [],
   "source": [
    "# Создаю новый столбец с годом\n",
    "gmv_main['year'] = gmv_main['period_new'].dt.year"
   ]
  },
  {
   "cell_type": "code",
   "execution_count": null,
   "metadata": {},
   "outputs": [],
   "source": [
    "gmv_main['year'].value_counts()"
   ]
  },
  {
   "cell_type": "code",
   "execution_count": 23,
   "metadata": {
    "id": "oRfo8pVMpUUs"
   },
   "outputs": [],
   "source": [
    "# Функция по добавлению нового столбца\n",
    "def new_column(df, new_col, col, new_list):\n",
    "    df[new_col] = df[col] \n",
    "    df.loc[~df[col].isin(new_list), new_col] = 'other'\n",
    "    print(df[new_col].value_counts())\n"
   ]
  },
  {
   "cell_type": "code",
   "execution_count": 24,
   "metadata": {
    "colab": {
     "base_uri": "https://localhost:8080/"
    },
    "id": "HkZ-cbCtpaar",
    "outputId": "65a81a9e-ab99-4201-bb93-09bae26b7d6b"
   },
   "outputs": [
    {
     "name": "stdout",
     "output_type": "stream",
     "text": [
      "other       2254523\n",
      "OFF LINE     689281\n",
      "Name: new_pm, dtype: int64\n"
     ]
    }
   ],
   "source": [
    "new_pm_list = ['OFF LINE']\n",
    "new_column(gmv_main, 'new_pm', 'payment_method', new_pm_list)"
   ]
  },
  {
   "cell_type": "code",
   "execution_count": null,
   "metadata": {},
   "outputs": [],
   "source": [
    "new_plan_list = ['Business', 'Free', 'Unlimited', 'Venture']\n",
    "new_column(gmv_main, 'new_plan', 'plan_title', new_plan_list)"
   ]
  },
  {
   "cell_type": "code",
   "execution_count": null,
   "metadata": {},
   "outputs": [],
   "source": [
    "# Создаю новый столбец по каналам согласно ТЗ\n",
    "gmv_main['new_channel'] = 0\n",
    "gmv_main.loc[gmv_main['channel_type'] == \"Direct\", 'new_channel'] = 'Direct'\n",
    "gmv_main.loc[gmv_main['channel_type'] == \"Affiliates\", 'new_channel'] = 'Direct'\n",
    "gmv_main.loc[gmv_main['channel_type'] == \"Resellers\", 'new_channel'] = 'Partner'\n",
    "gmv_main.loc[gmv_main['channel_type'] == \"JumpStart partners\", 'new_channel'] = 'Partner'\n",
    "gmv_main.head()"
   ]
  },
  {
   "cell_type": "markdown",
   "metadata": {
    "id": "xiu2T2XWgVvq"
   },
   "source": [
    "## Предобработка отчета по GMV за январь 2022"
   ]
  },
  {
   "cell_type": "code",
   "execution_count": 1,
   "metadata": {
    "colab": {
     "base_uri": "https://localhost:8080/"
    },
    "id": "HF9CoueUgVvs",
    "outputId": "7fe9b4f6-d480-4108-9e71-9e3e35a53d8f"
   },
   "outputs": [],
   "source": [
    "gmv_raw_jan2022.info()"
   ]
  },
  {
   "cell_type": "code",
   "execution_count": 28,
   "metadata": {
    "id": "Z_owxWLHgVvt"
   },
   "outputs": [],
   "source": [
    "# Заменим пробелы в названиях столбцов на _\n",
    "gmv_raw_jan2022.columns = gmv_raw_jan2022.columns.str.replace(' ', '_')\n",
    "\n",
    "# Заменим название\n",
    "gmv_raw_jan2022 = gmv_raw_jan2022.rename(columns={'$_gmv': 'gmv', \\\n",
    "                                                  'office_country': 'country', \\\n",
    "                                                  '#_of_orders': 'n_orders'})\n",
    "\n",
    "# Копирую нужные столбцы\n",
    "gmv_jan2022 = gmv_raw_jan2022[['store_id', \\\n",
    "               'payment_method', \\\n",
    "               'gmv', \\\n",
    "               'carrier', \\\n",
    "              'country', \\\n",
    "              'carrier_method', \\\n",
    "              'n_orders']].copy()"
   ]
  },
  {
   "cell_type": "code",
   "execution_count": 2,
   "metadata": {
    "colab": {
     "base_uri": "https://localhost:8080/"
    },
    "id": "lh3BUMaygVvv",
    "outputId": "dd323193-1141-4de3-fa2d-3887663bcb2a"
   },
   "outputs": [],
   "source": [
    "gmv_jan2022.info()"
   ]
  },
  {
   "cell_type": "code",
   "execution_count": 30,
   "metadata": {
    "id": "tV6FAdsygVvy"
   },
   "outputs": [],
   "source": [
    "gmv_jan2022['carrier'] = gmv_jan2022['carrier'].fillna('UNKNOWN')\n",
    "gmv_jan2022['carrier_method'] = gmv_jan2022['carrier_method'].fillna('UNKNOWN')"
   ]
  },
  {
   "cell_type": "code",
   "execution_count": 3,
   "metadata": {
    "colab": {
     "base_uri": "https://localhost:8080/"
    },
    "id": "V6egmnigzQtu",
    "outputId": "2fc95e2c-b9a8-4755-c88c-34b3b83857ff"
   },
   "outputs": [],
   "source": [
    "new_pm_list2 = ['OFF LINE']\n",
    "new_column(gmv_jan2022, 'new_pm', 'payment_method', new_pm_list2)\n"
   ]
  },
  {
   "cell_type": "code",
   "execution_count": 33,
   "metadata": {
    "id": "JKpTxvu-gVv0"
   },
   "outputs": [],
   "source": [
    "# Беру нужные столбцы из gmv_jan2022\n",
    "gmv_jan2022_1 = gmv_jan2022[['store_id', 'carrier', 'carrier_method', 'new_pm', 'gmv', 'country']].copy()"
   ]
  },
  {
   "cell_type": "markdown",
   "metadata": {
    "id": "Fy3jMucygVv1"
   },
   "source": [
    "## Предобработка отчета по активным магазинам за январь 2022"
   ]
  },
  {
   "cell_type": "code",
   "execution_count": 4,
   "metadata": {
    "colab": {
     "base_uri": "https://localhost:8080/"
    },
    "id": "YI3Y0xO4gVv2",
    "outputId": "9cd48774-608e-4135-ed21-e3ae518c71c9"
   },
   "outputs": [],
   "source": [
    "pos_raw_jan2022.info()"
   ]
  },
  {
   "cell_type": "code",
   "execution_count": null,
   "metadata": {},
   "outputs": [],
   "source": [
    "# переименовываю столбцы\n",
    "pos_raw_jan2022 = pos_raw_jan2022.rename(columns={'use__pos_clover': 'clover', \\\n",
    "                                 'use__pos_vend' : 'vend', \\\n",
    "                                 'use__pos_square': 'square', \\\n",
    "                                 'installed__pos_shopkeep': 'shopkeep', \\\n",
    "                               'use__pos_lightspeed' : 'LSPD'})\n",
    "pos_raw_jan2022.head()"
   ]
  },
  {
   "cell_type": "code",
   "execution_count": 36,
   "metadata": {
    "id": "QpBKfqT6gVv3"
   },
   "outputs": [],
   "source": [
    "# Замена Nan на 0\n",
    "pos_raw_jan2022['clover'] = pos_raw_jan2022['clover'].fillna('NO')\n",
    "pos_raw_jan2022['vend'] = pos_raw_jan2022['vend'].fillna('NO')\n",
    "pos_raw_jan2022['square'] = pos_raw_jan2022['square'].fillna('NO')\n",
    "pos_raw_jan2022['shopkeep'] = pos_raw_jan2022['shopkeep'].fillna('NO')\n",
    "pos_raw_jan2022['LSPD'] = pos_raw_jan2022['LSPD'].fillna('NO')"
   ]
  },
  {
   "cell_type": "code",
   "execution_count": null,
   "metadata": {},
   "outputs": [],
   "source": [
    "# Копирую нужные столбцы в новую таблицу\n",
    "pos_jan2022 = pos_raw_jan2022[['store_id', 'clover', 'square', 'vend', 'LSPD', 'shopkeep', 'ftu_period']].copy()\n",
    "\n",
    "# Перевод ftu_date в формат даты\n",
    "pos_jan2022['ftu_new'] = pd.to_datetime(pos_jan2022['ftu_period'])\n",
    "pos_jan2022['ftu_year'] = pos_jan2022['ftu_new'].dt.year\n",
    "pos_jan2022.head()"
   ]
  },
  {
   "cell_type": "markdown",
   "metadata": {
    "id": "23Xy5lY2gVv6"
   },
   "source": [
    "# 3.Общий анализ"
   ]
  },
  {
   "cell_type": "markdown",
   "metadata": {
    "id": "YeobaRIegVv7"
   },
   "source": [
    "## 3.1.Доля Offline GMV  от всего GMV за год (2020-2021)"
   ]
  },
  {
   "cell_type": "code",
   "execution_count": 5,
   "metadata": {
    "colab": {
     "base_uri": "https://localhost:8080/",
     "height": 176
    },
    "id": "0r2ku0YHgVv9",
    "outputId": "3a4d5588-9660-47f0-cc86-7da5fe1cb93c"
   },
   "outputs": [],
   "source": [
    "# Сводная по годам общая\n",
    "gmv_main_years = gmv_main.pivot_table(\n",
    "index='year', columns = 'new_pm', values ='gmv', aggfunc = 'sum').reset_index()\n",
    "\n",
    "gmv_main_years.columns = ['year', 'off_line_gmv', 'other_gmv']\n",
    "\n",
    "gmv_main_years['%'] = gmv_main_years['off_line_gmv'] / (gmv_main_years['off_line_gmv'] + gmv_main_years['other_gmv'])*100\n",
    "\n",
    "gmv_main_years"
   ]
  },
  {
   "cell_type": "markdown",
   "metadata": {
    "id": "eTIZKPk-gVv_"
   },
   "source": [
    "## 3.2. Доля Offline GMV от всего GMV помесячно за период 2020-2021"
   ]
  },
  {
   "cell_type": "code",
   "execution_count": null,
   "metadata": {},
   "outputs": [],
   "source": [
    "# Сводная помесячно\n",
    "gmv_main_months = gmv_main.pivot_table(\n",
    "index=['period_new'], columns = 'new_pm', values ='gmv', aggfunc = 'sum').reset_index().fillna(0)\n",
    "\n",
    "gmv_main_months.columns = ['period_new', 'off_line_gmv', 'other_gmv']\n",
    "\n",
    "gmv_main_months['%'] = gmv_main_months['off_line_gmv'] / (gmv_main_months['off_line_gmv'] + gmv_main_months['other_gmv'])*100\n",
    "gmv_main_months['month'] = gmv_main_months['period_new'].dt.month\n",
    "gmv_main_months['year'] = gmv_main_months['period_new'].dt.year \n",
    "\n",
    "\n",
    "gmv_main_months.head()"
   ]
  },
  {
   "cell_type": "markdown",
   "metadata": {
    "id": "UR7S0XWPgVwD"
   },
   "source": [
    "## 3.3.Соотношение долей GMV 2020-2021"
   ]
  },
  {
   "cell_type": "code",
   "execution_count": null,
   "metadata": {},
   "outputs": [],
   "source": [
    "# gmv_main_months2020 по 2020 году\n",
    "gmv_main_months2020 = gmv_main_months.query('period_new <= \"2020-12-31\"').rename(columns={'%' : '%_2020'}).fillna(0)\n",
    "gmv_main_months2020"
   ]
  },
  {
   "cell_type": "code",
   "execution_count": 41,
   "metadata": {
    "colab": {
     "base_uri": "https://localhost:8080/",
     "height": 54
    },
    "id": "9g3tvLYFgVwF",
    "outputId": "6c8bcbba-1ca7-411d-9b34-718c51290e3b"
   },
   "outputs": [
    {
     "data": {
      "image/png": "[encoded data removed]",
      "text/plain": [
       "<Figure size 1440x720 with 1 Axes>"
      ]
     },
     "metadata": {
      "needs_background": "light"
     },
     "output_type": "display_data"
    }
   ],
   "source": [
    "# График по 2020 году по %\n",
    "plt.figure(figsize=(20,10))\n",
    "ax = sns.barplot(data=gmv_main_months2020, x='month', y='%_2020')\n",
    "ax.set_xticklabels(ax.get_xticklabels(),rotation = 30)\n",
    "plt.show()"
   ]
  },
  {
   "cell_type": "markdown",
   "metadata": {
    "id": "bxWqxbYPgVwG"
   },
   "source": [
    "## 3.4.Соотношение долей GMV по OFF_LINE в 2021"
   ]
  },
  {
   "cell_type": "code",
   "execution_count": null,
   "metadata": {},
   "outputs": [],
   "source": [
    "# сводная по 2021 году\n",
    "gmv_main_months2021 = gmv_main_months.query('period_new > \"2020-12-31\"').rename(columns={'%' : '%_2021'})\n",
    "gmv_main_months2021"
   ]
  },
  {
   "cell_type": "code",
   "execution_count": 43,
   "metadata": {
    "colab": {
     "base_uri": "https://localhost:8080/",
     "height": 54
    },
    "id": "FfazYvjagVwJ",
    "outputId": "51a41ac9-245a-477f-bea1-960bd0b12394"
   },
   "outputs": [
    {
     "data": {
      "image/png": "[encoded data removed]",
      "text/plain": [
       "<Figure size 1440x720 with 1 Axes>"
      ]
     },
     "metadata": {
      "needs_background": "light"
     },
     "output_type": "display_data"
    }
   ],
   "source": [
    "# График по 2021 году по %\n",
    "plt.figure(figsize=(20,10))\n",
    "ax = sns.barplot(data=gmv_main_months2021, x='month', y='%_2021')\n",
    "ax.set_xticklabels(ax.get_xticklabels(),rotation = 30)\n",
    "plt.show()"
   ]
  },
  {
   "cell_type": "code",
   "execution_count": 44,
   "metadata": {
    "colab": {
     "base_uri": "https://localhost:8080/",
     "height": 54
    },
    "id": "LHJIfWd1gVwL",
    "outputId": "6f667ce5-9cbc-4b8b-a253-f0d92fe26832"
   },
   "outputs": [
    {
     "data": {
      "image/png": "[encoded data removed]",
      "text/plain": [
       "<Figure size 1080x720 with 1 Axes>"
      ]
     },
     "metadata": {
      "needs_background": "light"
     },
     "output_type": "display_data"
    }
   ],
   "source": [
    "# Совместный график помесячно \n",
    "plt.figure(figsize=(15,10))\n",
    "plt.plot(gmv_main_months2020['month'], gmv_main_months2020['%_2020'], label = '2020')\n",
    "plt.plot(gmv_main_months2021['month'], gmv_main_months2021['%_2021'], label = '2021')\n",
    "plt.title('% OFF LINE per month')\n",
    "plt.xlabel('Month')\n",
    "plt.ylabel('%')\n",
    "plt.ylim(0)\n",
    "plt.grid()\n",
    "plt.legend()\n",
    "plt.show()"
   ]
  },
  {
   "cell_type": "markdown",
   "metadata": {
    "id": "HLuy4Y1JgVwM"
   },
   "source": [
    "## 3.5 Доля Offline GMV  от всего GMV за 2020-2021 по каналам"
   ]
  },
  {
   "cell_type": "code",
   "execution_count": null,
   "metadata": {},
   "outputs": [],
   "source": [
    "# Сводная помесячно по каналам\n",
    "channels_main_months = gmv_main.pivot_table(\n",
    "index=['period_new', 'new_channel'], columns = 'new_pm', values ='gmv', aggfunc = 'sum').reset_index()\n",
    "\n",
    "channels_main_months.columns = ['period_new', 'channel', 'off_line_gmv', 'other_gmv']\n",
    "\n",
    "channels_main_months['%'] = channels_main_months['off_line_gmv'] / (channels_main_months['off_line_gmv'] + channels_main_months['other_gmv'])*100\n",
    "channels_main_months['month'] = channels_main_months['period_new'].dt.month\n",
    "channels_main_months['year'] = channels_main_months['period_new'].dt.year \n",
    "\n",
    "\n",
    "channels_main_months.head()"
   ]
  },
  {
   "cell_type": "code",
   "execution_count": null,
   "metadata": {},
   "outputs": [],
   "source": [
    "# channels_main_months2020 по 2020 году\n",
    "channels_main_months2020 = channels_main_months.query('period_new <= \"2020-12-31\"')\n",
    "channels_main_months2020"
   ]
  },
  {
   "cell_type": "code",
   "execution_count": 47,
   "metadata": {
    "colab": {
     "base_uri": "https://localhost:8080/",
     "height": 54
    },
    "id": "EDTFFXA0gVwQ",
    "outputId": "2d3c1087-6a5c-42b7-f912-d4f85c5be293"
   },
   "outputs": [
    {
     "data": {
      "image/png": "[encoded data removed]",
      "text/plain": [
       "<Figure size 1440x720 with 1 Axes>"
      ]
     },
     "metadata": {
      "needs_background": "light"
     },
     "output_type": "display_data"
    }
   ],
   "source": [
    "# График по 2020 году по %\n",
    "plt.figure(figsize=(20,10))\n",
    "ax = sns.barplot(data=channels_main_months2020, x='month', y='%', hue='channel')\n",
    "ax.set_xticklabels(ax.get_xticklabels(),rotation = 30)\n",
    "plt.show()"
   ]
  },
  {
   "cell_type": "code",
   "execution_count": null,
   "metadata": {},
   "outputs": [],
   "source": [
    "# channels_direct_months2020 помесячно Direct 2020 год\n",
    "channels_direct_months2020 = channels_main_months2020.query('channel == \"Direct\"').rename(columns={'%' : '%_2020'})\n",
    "channels_direct_months2020"
   ]
  },
  {
   "cell_type": "code",
   "execution_count": null,
   "metadata": {},
   "outputs": [],
   "source": [
    "# channels_main_months2021 по 2021 году\n",
    "channels_main_months2021 = channels_main_months.query('period_new > \"2020-12-31\"')\n",
    "channels_main_months2021"
   ]
  },
  {
   "cell_type": "code",
   "execution_count": 50,
   "metadata": {
    "colab": {
     "base_uri": "https://localhost:8080/",
     "height": 54
    },
    "id": "C59jjaEpgVwW",
    "outputId": "9dd59ae3-1cb6-49af-9765-9e3749fd4560"
   },
   "outputs": [
    {
     "data": {
      "image/png": "[encoded data removed]",
      "text/plain": [
       "<Figure size 1440x720 with 1 Axes>"
      ]
     },
     "metadata": {
      "needs_background": "light"
     },
     "output_type": "display_data"
    }
   ],
   "source": [
    "# График по 2021 году по %\n",
    "plt.figure(figsize=(20,10))\n",
    "ax = sns.barplot(data=channels_main_months2021, x='month', y='%', hue='channel')\n",
    "ax.set_xticklabels(ax.get_xticklabels(),rotation = 30)\n",
    "plt.show()"
   ]
  },
  {
   "cell_type": "code",
   "execution_count": null,
   "metadata": {},
   "outputs": [],
   "source": [
    "channels_direct_months2021 = channels_main_months2021.query('channel == \"Direct\"').rename(columns={'%' : '%_2021'})\n",
    "channels_direct_months2021"
   ]
  },
  {
   "cell_type": "code",
   "execution_count": 52,
   "metadata": {
    "colab": {
     "base_uri": "https://localhost:8080/",
     "height": 54
    },
    "id": "3b87z1eDgVwY",
    "outputId": "f65d16bd-9746-4f04-ea0d-18e72ec3ec12"
   },
   "outputs": [
    {
     "data": {
      "image/png": "[encoded data removed]",
      "text/plain": [
       "<Figure size 1080x720 with 1 Axes>"
      ]
     },
     "metadata": {
      "needs_background": "light"
     },
     "output_type": "display_data"
    }
   ],
   "source": [
    "# График по Direct помесячно\n",
    "\n",
    "plt.figure(figsize=(15,10))\n",
    "plt.plot(channels_direct_months2020['month'], channels_direct_months2020['%_2020'], label = '2020', marker ='o')\n",
    "plt.plot(channels_direct_months2021['month'], channels_direct_months2021['%_2021'], label = '2021', marker = 'o')\n",
    "plt.title('% OFF LINE per month in the Direct channel ')\n",
    "plt.xlabel('Month')\n",
    "plt.ylabel('%')\n",
    "plt.xticks([1, 2, 3, 4, 5, 6, 7, 8, 9, 10, 11, 12])\n",
    "plt.ylim(0)\n",
    "plt.grid()\n",
    "plt.legend()\n",
    "plt.show()\n"
   ]
  },
  {
   "cell_type": "code",
   "execution_count": null,
   "metadata": {},
   "outputs": [],
   "source": [
    "# channels_partner_months2020 по Partner 2020 год\n",
    "channels_partner_months2020 = channels_main_months2020.query('channel == \"Partner\"').rename(columns={'%' : '%_2020'})\n",
    "channels_partner_months2020"
   ]
  },
  {
   "cell_type": "code",
   "execution_count": null,
   "metadata": {},
   "outputs": [],
   "source": [
    "# channels_partner_months2021 по каналу Partner в 2021 году\n",
    "channels_partner_months2021 = channels_main_months2021.query('channel == \"Partner\"').rename(columns={'%' : '%_2021'})\n",
    "channels_partner_months2021"
   ]
  },
  {
   "cell_type": "code",
   "execution_count": 55,
   "metadata": {
    "colab": {
     "base_uri": "https://localhost:8080/",
     "height": 54
    },
    "id": "I66QcZpEgVwc",
    "outputId": "25cbff65-0bfd-4723-eb5b-ef72edd6929a"
   },
   "outputs": [
    {
     "data": {
      "image/png": "[encoded data removed]",
      "text/plain": [
       "<Figure size 1080x720 with 1 Axes>"
      ]
     },
     "metadata": {
      "needs_background": "light"
     },
     "output_type": "display_data"
    }
   ],
   "source": [
    "# График по Partner помесячно за 2 года\n",
    "\n",
    "plt.figure(figsize=(15,10))\n",
    "plt.plot(channels_partner_months2020['month'], channels_partner_months2020['%_2020'], label = '2020', marker ='o')\n",
    "plt.plot(channels_partner_months2021['month'], channels_partner_months2021['%_2021'], label = '2021', marker ='o')\n",
    "plt.title('% OFF LINE per month in the Partner channel ')\n",
    "plt.xlabel('Month')\n",
    "plt.ylabel('%')\n",
    "plt.xticks([1, 2, 3, 4, 5, 6, 7, 8, 9, 10, 11, 12])\n",
    "plt.ylim(0)\n",
    "plt.grid()\n",
    "plt.legend()\n",
    "plt.show()"
   ]
  },
  {
   "cell_type": "code",
   "execution_count": null,
   "metadata": {},
   "outputs": [],
   "source": [
    "# Сводная по годам и каналам\n",
    "channels_main_2020_2021 = gmv_main.pivot_table(\n",
    "index=['year', 'new_channel'], columns = 'new_pm', values ='gmv', aggfunc = 'sum').reset_index()\n",
    "\n",
    "channels_main_2020_2021.columns = ['year', 'channel','off_line_gmv', 'other_gmv']\n",
    "\n",
    "channels_main_2020_2021['%'] = channels_main_2020_2021['off_line_gmv'] / (channels_main_2020_2021['off_line_gmv'] + channels_main_2020_2021['other_gmv'])*100\n",
    "\n",
    "channels_main_2020_2021"
   ]
  },
  {
   "cell_type": "code",
   "execution_count": 57,
   "metadata": {
    "colab": {
     "base_uri": "https://localhost:8080/",
     "height": 54
    },
    "id": "Ya_VkDEegVwe",
    "outputId": "99a84fb5-cc45-4e85-8d2a-299d88ef0e0c"
   },
   "outputs": [
    {
     "data": {
      "image/png": "[encoded data removed]",
      "text/plain": [
       "<Figure size 1440x720 with 1 Axes>"
      ]
     },
     "metadata": {
      "needs_background": "light"
     },
     "output_type": "display_data"
    }
   ],
   "source": [
    "# График сравнения годов в разрезе channel %\n",
    "plt.figure(figsize=(20,10))\n",
    "ax = sns.barplot(data=channels_main_2020_2021, x='year', y='%', hue='channel')\n",
    "ax.set_xticklabels(ax.get_xticklabels(),rotation = 30)\n",
    "plt.show()"
   ]
  },
  {
   "cell_type": "markdown",
   "metadata": {
    "id": "jHSFhoDrgVwi"
   },
   "source": [
    "# Часть 4.Дополнительный анализ"
   ]
  },
  {
   "cell_type": "code",
   "execution_count": 58,
   "metadata": {
    "colab": {
     "base_uri": "https://localhost:8080/"
    },
    "id": "xGH_jdattqzV",
    "outputId": "f1e84ee2-828f-4cc8-c097-4212676820cf"
   },
   "outputs": [
    {
     "data": {
      "text/plain": [
       "(1727007, 17)"
      ]
     },
     "execution_count": 58,
     "metadata": {},
     "output_type": "execute_result"
    }
   ],
   "source": [
    "direct_gmv_main = gmv_main.query('channel_type == \"Direct\"')\n",
    "\n",
    "direct_gmv_main.shape"
   ]
  },
  {
   "cell_type": "code",
   "execution_count": 59,
   "metadata": {
    "id": "62zT2Vuxxu7D"
   },
   "outputs": [],
   "source": [
    "# Функция для доп анализа\n",
    "def special(df, year, x1):\n",
    "    df1 = df.query('year == @year').pivot_table(index=x1, \\\n",
    "                  columns='new_pm', \\\n",
    "                  values=['gmv', 'n_orders'], \n",
    "                  aggfunc={'gmv' : 'sum', \n",
    "              'n_orders' : 'sum'}).reset_index().fillna(0)\n",
    "\n",
    "    df1.columns = [x1, 'off_line_gmv', 'other_gmv', \\\n",
    "               'n_orders_offline', 'n_orders_other_pm']\n",
    "\n",
    "    df1['AoV_offline'] = df1['off_line_gmv'] / df1['n_orders_offline']\n",
    "    df1['AoV_other'] = df1['other_gmv'] / df1['n_orders_other_pm']\n",
    "    \n",
    "    df2 = df.query('year == @year').pivot_table(index= x1, \\\n",
    "                      values='store_id', aggfunc='nunique').reset_index()\n",
    "    df2.columns = [x1, 'n_stores']\n",
    "    #print(df2)\n",
    "    df3 = df1.merge(df2, how='inner', on=x1)\n",
    "    \n",
    "    df3['Av_gmv_store_general'] = (df3['off_line_gmv'] + df3['other_gmv'])/ df3['n_stores']\n",
    "    df3[f'%_offline_{year}'] = (df3['off_line_gmv'] / (df3['off_line_gmv'] + df3['other_gmv']) *100)\n",
    "                         \n",
    "    return(df3)"
   ]
  },
  {
   "cell_type": "markdown",
   "metadata": {
    "id": "zuSjPZuhgVwj"
   },
   "source": [
    "## 1.Verticals\n"
   ]
  },
  {
   "cell_type": "code",
   "execution_count": 6,
   "metadata": {
    "colab": {
     "base_uri": "https://localhost:8080/",
     "height": 206
    },
    "id": "9_cSGVzlgVwk",
    "outputId": "40a1c52d-b70e-4df4-c54c-b318a9759c38"
   },
   "outputs": [],
   "source": [
    "# Сводная по годам и вертикалям\n",
    "verticals_main = direct_gmv_main.pivot_table(\n",
    "index =['year', 'vertical'], columns = 'new_pm', values ='gmv', aggfunc = 'sum').reset_index()\n",
    "\n",
    "verticals_main.columns = ['year', 'vertical','off_line_gmv', 'other_gmv']\n",
    "\n",
    "verticals_main['%'] = verticals_main['off_line_gmv'] / (verticals_main['off_line_gmv'] + verticals_main['other_gmv'])*100\n",
    "\n",
    "verticals_main.head()"
   ]
  },
  {
   "cell_type": "code",
   "execution_count": null,
   "metadata": {},
   "outputs": [],
   "source": [
    "# по вертикалям в 2020 году\n",
    "verticals_main2020 = verticals_main.query('year == 2020') \\\n",
    ".rename(columns= {'%' : '%_2020', 'off_line_gmv' : 'off_line_gmv_2020', 'other_gmv' : 'other_gmv_2020'}) \\\n",
    ".sort_values(by='%_2020', ascending=False)\n",
    "\n",
    "verticals_main2020_top10 = verticals_main2020.head(10)\n",
    "verticals_main2020_top10"
   ]
  },
  {
   "cell_type": "code",
   "execution_count": 62,
   "metadata": {
    "colab": {
     "base_uri": "https://localhost:8080/",
     "height": 525
    },
    "id": "09ont-zXgVwn",
    "outputId": "acef9252-f993-43e3-bc28-726a8a5ee1a7"
   },
   "outputs": [
    {
     "data": {
      "image/png": "[encoded data removed]",
      "text/plain": [
       "<Figure size 1440x720 with 1 Axes>"
      ]
     },
     "metadata": {
      "needs_background": "light"
     },
     "output_type": "display_data"
    }
   ],
   "source": [
    "# График по 10 top verticals in 2020 на direct\n",
    "plt.figure(figsize=(20,10))\n",
    "ax = sns.barplot(data=verticals_main2020_top10, x='vertical', y='%_2020')\n",
    "ax.set_xticklabels(ax.get_xticklabels(),rotation = 30)\n",
    "plt.show()"
   ]
  },
  {
   "cell_type": "code",
   "execution_count": null,
   "metadata": {},
   "outputs": [],
   "source": [
    "# по вертикалям в 2021 году\n",
    "verticals_main2021 = verticals_main.query('year == 2021') \\\n",
    ".rename(columns= {'%' : '%_2021', 'off_line_gmv' : 'off_line_gmv_2021', 'other_gmv' : 'other_gmv_2021'}) \\\n",
    ".sort_values(by='%_2021', ascending=False)\n",
    "\n",
    "verticals_main2021_top10 = verticals_main2021.head(10)\n",
    "\n",
    "verticals_main2021_top10"
   ]
  },
  {
   "cell_type": "code",
   "execution_count": 64,
   "metadata": {
    "colab": {
     "base_uri": "https://localhost:8080/",
     "height": 525
    },
    "id": "pUmRm2TQgVwq",
    "outputId": "0b414d8f-01a4-4978-c595-159da64fc865"
   },
   "outputs": [
    {
     "data": {
      "image/png": "[encoded data removed]",
      "text/plain": [
       "<Figure size 1440x720 with 1 Axes>"
      ]
     },
     "metadata": {
      "needs_background": "light"
     },
     "output_type": "display_data"
    }
   ],
   "source": [
    "# График по 10 top verticals in 2021 direct channel \n",
    "plt.figure(figsize=(20,10))\n",
    "ax = sns.barplot(data=verticals_main2021_top10, x='vertical', y='%_2021')\n",
    "ax.set_xticklabels(ax.get_xticklabels(),rotation = 30)\n",
    "plt.show()"
   ]
  },
  {
   "cell_type": "code",
   "execution_count": 65,
   "metadata": {
    "id": "VMxpPefvgVwq"
   },
   "outputs": [],
   "source": [
    "verticals_2020_2021 = verticals_main2021.merge(verticals_main2020, how='left', on='vertical').fillna(0)"
   ]
  },
  {
   "cell_type": "code",
   "execution_count": null,
   "metadata": {},
   "outputs": [],
   "source": [
    "# Статистика по вертикалям за годы 2020-2021\n",
    "verticals_2020_2021 = verticals_2020_2021[['vertical', \\\n",
    "                             'off_line_gmv_2020', 'off_line_gmv_2021', \\\n",
    "                             'other_gmv_2020', 'other_gmv_2021', \\\n",
    "                            '%_2020', '%_2021']]\n",
    "verticals_2020_2021"
   ]
  },
  {
   "cell_type": "code",
   "execution_count": null,
   "metadata": {},
   "outputs": [],
   "source": [
    "# Доп таблица по вертикалям в 2020\n",
    "vertical_extra_2020 = special(direct_gmv_main, 2020, 'vertical')\n",
    "vertical_extra_2020.head()"
   ]
  },
  {
   "cell_type": "code",
   "execution_count": null,
   "metadata": {},
   "outputs": [],
   "source": [
    "# доп таблица по вертикалям в 2021\n",
    "vertical_extra_2021 = special(direct_gmv_main, 2021, 'vertical')\n",
    "vertical_extra_2021.head()"
   ]
  },
  {
   "cell_type": "markdown",
   "metadata": {
    "id": "ylLM4f3LgVws"
   },
   "source": [
    "## 2.Plans"
   ]
  },
  {
   "cell_type": "code",
   "execution_count": null,
   "metadata": {},
   "outputs": [],
   "source": [
    "# Сводная по годам и странам\n",
    "plan_main = direct_gmv_main.pivot_table(\n",
    "index =['year', 'new_plan'], columns = 'new_pm', values ='gmv', aggfunc = 'sum').reset_index()\n",
    "\n",
    "plan_main.columns = ['year', 'plan','off_line_gmv', 'other_gmv']\n",
    "\n",
    "plan_main['%'] = plan_main['off_line_gmv'] / (plan_main['off_line_gmv'] + plan_main['other_gmv'])*100\n",
    "\n",
    "plan_main"
   ]
  },
  {
   "cell_type": "code",
   "execution_count": null,
   "metadata": {},
   "outputs": [],
   "source": [
    "# по планам и 2020 году\n",
    "plan_main2020 = plan_main.query('year == 2020') \\\n",
    ".rename(columns= {'%' : '%_2020','off_line_gmv': 'off_line_gmv_2020', 'other_gmv' : 'other_gmv_2020'}) \\\n",
    ".sort_values(by='%_2020', ascending=False)\n",
    "\n",
    "plan_main2020.head(30)"
   ]
  },
  {
   "cell_type": "code",
   "execution_count": null,
   "metadata": {},
   "outputs": [],
   "source": [
    "# по планам и 2021 году\n",
    "plan_main2021 = plan_main.query('year == 2021') \\\n",
    ".rename(columns= {'%' : '%_2021', 'off_line_gmv': 'off_line_gmv_2021', 'other_gmv' : 'other_gmv_2021'}) \\\n",
    ".sort_values(by='%_2021', ascending=False)\n",
    "\n",
    "\n",
    "plan_main2021.head(30)"
   ]
  },
  {
   "cell_type": "code",
   "execution_count": null,
   "metadata": {},
   "outputs": [],
   "source": [
    "# Сводная таблица по основным планам за 2020-2021\n",
    "plan_2020_2021 = plan_main2021.merge(plan_main2020, how='inner', on='plan')\n",
    "\n",
    "\n",
    "plan_2020_2021 = plan_2020_2021[['plan', 'off_line_gmv_2020', 'off_line_gmv_2021', \\\n",
    "'other_gmv_2020', 'other_gmv_2021', '%_2020', '%_2021']]\n",
    "\n",
    "plan_2020_2021"
   ]
  },
  {
   "cell_type": "markdown",
   "metadata": {
    "id": "Aitwbb2vgVw0"
   },
   "source": [
    "## 3.Countries"
   ]
  },
  {
   "cell_type": "code",
   "execution_count": 7,
   "metadata": {
    "colab": {
     "base_uri": "https://localhost:8080/",
     "height": 270
    },
    "id": "oA-M8l7QgVw1",
    "outputId": "eb0daea1-8ede-46b4-93e6-397f1683bdb8"
   },
   "outputs": [],
   "source": [
    "# Сводная по годам и странам\n",
    "country_main = direct_gmv_main.pivot_table(\n",
    "index=['year', 'country'], columns = 'new_pm', values ='gmv', aggfunc = 'sum').reset_index()\n",
    "\n",
    "country_main.columns = ['year', 'country','off_line_gmv', 'other_gmv']\n",
    "\n",
    "country_main['%'] = country_main['off_line_gmv'] / (country_main['off_line_gmv'] + country_main['other_gmv'])*100\n",
    "\n",
    "country_main.head()"
   ]
  },
  {
   "cell_type": "code",
   "execution_count": null,
   "metadata": {},
   "outputs": [],
   "source": [
    "# по странам и 2020 году\n",
    "country_main2020 = country_main.query('year == 2020') \\\n",
    ".rename(columns= {'%' : '%_2020', 'off_line_gmv' : 'off_line_gmv_2020', 'other_gmv' : 'other_gmv_2020'}) \\\n",
    ".sort_values(by='%_2020', ascending=False)\n",
    "\n",
    "country_main2020.head(20)"
   ]
  },
  {
   "cell_type": "code",
   "execution_count": null,
   "metadata": {},
   "outputs": [],
   "source": [
    "# сортировка по Gmv 2020\n",
    "country_main2020.sort_values(by='off_line_gmv_2020', ascending=False).head(20)"
   ]
  },
  {
   "cell_type": "code",
   "execution_count": null,
   "metadata": {},
   "outputs": [],
   "source": [
    "# по странам и 2021 году\n",
    "country_main2021 = country_main.query('year == 2021') \\\n",
    ".rename(columns= {'%' : '%_2021', 'off_line_gmv' : 'off_line_gmv_2021', 'other_gmv' : 'other_gmv_2021'}) \\\n",
    ".sort_values(by='%_2021', ascending=False)\n",
    "\n",
    "country_main2021.head(20)"
   ]
  },
  {
   "cell_type": "code",
   "execution_count": null,
   "metadata": {},
   "outputs": [],
   "source": [
    "# сортировка по Gmv 2021\n",
    "\n",
    "country_main2021.sort_values(by='off_line_gmv_2021', ascending=False).head(20)"
   ]
  },
  {
   "cell_type": "code",
   "execution_count": null,
   "metadata": {},
   "outputs": [],
   "source": [
    "# Общая таблица за 2 года по странам\n",
    "country_2020_2021 = country_main2021.merge(country_main2020, how='left', on='country').fillna(0)\n",
    "\n",
    "country_2020_2021 = country_2020_2021.drop(columns=['year_x', 'year_y'])\n",
    "\n",
    "country_2020_2021 = country_2020_2021[['country', 'off_line_gmv_2020', 'off_line_gmv_2021', \\\n",
    "                                  'other_gmv_2020', 'other_gmv_2021', '%_2020', '%_2021']]\n",
    "\n",
    "country_2020_2021.head(10)"
   ]
  },
  {
   "cell_type": "code",
   "execution_count": null,
   "metadata": {},
   "outputs": [],
   "source": [
    "# Доп таблица по странам с использованием функции special\n",
    "country_extra_2020 = special(direct_gmv_main, 2020, 'country')\n",
    "country_extra_2020.head()"
   ]
  },
  {
   "cell_type": "code",
   "execution_count": null,
   "metadata": {},
   "outputs": [],
   "source": [
    "country_extra_2021 = special(direct_gmv_main, 2021, 'country')\n",
    "country_extra_2021.head()"
   ]
  },
  {
   "cell_type": "markdown",
   "metadata": {
    "id": "G98YdDohgVxs"
   },
   "source": [
    "## 4.Other payments in another period (п.4 декабрь OFF_Line)"
   ]
  },
  {
   "cell_type": "code",
   "execution_count": 98,
   "metadata": {
    "colab": {
     "base_uri": "https://localhost:8080/"
    },
    "id": "PMn-g1r4gVxt",
    "outputId": "a095851b-a142-4613-a0b7-65a714e3b37c"
   },
   "outputs": [
    {
     "data": {
      "text/plain": [
       "other      0.75\n",
       "OFF LINE   0.25\n",
       "Name: new_pm, dtype: float64"
      ]
     },
     "execution_count": 98,
     "metadata": {},
     "output_type": "execute_result"
    }
   ],
   "source": [
    "december_direct_main_2021 = direct_gmv_main.query('period_new == \"2021-12-01\"')\n",
    "\n",
    "december_direct_main_2021['new_pm'].value_counts(normalize=True)"
   ]
  },
  {
   "cell_type": "code",
   "execution_count": null,
   "metadata": {},
   "outputs": [],
   "source": [
    "december_direct_main_2021.head()"
   ]
  },
  {
   "cell_type": "code",
   "execution_count": null,
   "metadata": {},
   "outputs": [],
   "source": [
    "december_2021_gmv_pivot = december_direct_main_2021.pivot_table(\n",
    "    index = 'store_id', columns= 'new_pm', values='gmv', aggfunc = 'sum') \\\n",
    ".reset_index().fillna(0)\n",
    "\n",
    "december_2021_gmv_pivot.columns = ['store_id', 'off_line_gmv', 'other_gmv']\n",
    "\n",
    "december_2021_gmv_pivot.head()"
   ]
  },
  {
   "cell_type": "code",
   "execution_count": 101,
   "metadata": {
    "colab": {
     "base_uri": "https://localhost:8080/"
    },
    "id": "ajT6dUwCgVxx",
    "outputId": "7a273e6b-c634-4a31-9418-1a80cfdcfa79"
   },
   "outputs": [
    {
     "data": {
      "text/plain": [
       "other       63155\n",
       "OFF LINE    21195\n",
       "Name: new_pm, dtype: int64"
      ]
     },
     "execution_count": 101,
     "metadata": {},
     "output_type": "execute_result"
    }
   ],
   "source": [
    "december_direct_main_2021['new_pm'].value_counts()"
   ]
  },
  {
   "cell_type": "code",
   "execution_count": 102,
   "metadata": {
    "colab": {
     "base_uri": "https://localhost:8080/"
    },
    "id": "DaojH1KIgVxy",
    "outputId": "368aebb8-2eac-429a-8b69-32f80de4552c"
   },
   "outputs": [
    {
     "data": {
      "text/plain": [
       "Only other payments    21106\n",
       "Only OFF LINE           6088\n",
       "Mixed payments          5504\n",
       "no data                    1\n",
       "Name: pm, dtype: int64"
      ]
     },
     "execution_count": 102,
     "metadata": {},
     "output_type": "execute_result"
    }
   ],
   "source": [
    "december_2021_gmv_pivot['pm'] = 0\n",
    "\n",
    "december_2021_gmv_pivot.loc[(december_2021_gmv_pivot['other_gmv'] <= 0.00) & \\\n",
    "                            (december_2021_gmv_pivot['off_line_gmv'] > 0.00) , 'pm'] = 'Only OFF LINE'\n",
    "december_2021_gmv_pivot.loc[(december_2021_gmv_pivot['other_gmv'] > 0.00) & \\\n",
    "                            (december_2021_gmv_pivot['off_line_gmv'] <= 0.00) , 'pm'] = 'Only other payments'\n",
    "december_2021_gmv_pivot.loc[(december_2021_gmv_pivot['other_gmv'] > 0.00) & \\\n",
    "                            (december_2021_gmv_pivot['off_line_gmv'] > 0.00) , 'pm'] = 'Mixed payments'\n",
    "december_2021_gmv_pivot.loc[(december_2021_gmv_pivot['other_gmv'] <= 0.00) & \\\n",
    "                            (december_2021_gmv_pivot['off_line_gmv'] <= 0.00) , 'pm'] = 'no data'\n",
    "\n",
    "december_2021_gmv_pivot['pm'].value_counts()"
   ]
  },
  {
   "cell_type": "code",
   "execution_count": null,
   "metadata": {},
   "outputs": [],
   "source": [
    "stores = december_2021_gmv_pivot.query('pm == \"Only OFF LINE\"')['store_id']\n",
    "\n",
    "december_2021_off_line = december_2021_gmv_pivot.query('store_id in @stores').sort_values(by='off_line_gmv', ascending= False)\n",
    "\n",
    "december_2021_off_line.head()"
   ]
  },
  {
   "cell_type": "code",
   "execution_count": null,
   "metadata": {},
   "outputs": [],
   "source": [
    "gmv_pm_main_2020_2021 = gmv_main[['period_new', 'store_id', 'payment_method', 'gmv', 'new_pm', \\\n",
    "                                  'new_channel', 'n_orders']].copy()\n",
    "\n",
    "gmv_pm_main_2020_2021.head()"
   ]
  },
  {
   "cell_type": "code",
   "execution_count": null,
   "metadata": {},
   "outputs": [],
   "source": [
    "# Таблица по списку store_id из декабря 2021\n",
    "gmv_pm_main_offline_stores_2020_2021 = gmv_pm_main_2020_2021.query('store_id in @stores')\n",
    "gmv_pm_main_offline_stores_2020_2021.head()"
   ]
  },
  {
   "cell_type": "code",
   "execution_count": 106,
   "metadata": {
    "colab": {
     "base_uri": "https://localhost:8080/"
    },
    "id": "TmfLuGnbgVx6",
    "outputId": "517c23b8-e8ec-4436-bf6d-95cc749dd766"
   },
   "outputs": [
    {
     "data": {
      "text/plain": [
       "OFF LINE    108548\n",
       "other        17099\n",
       "Name: new_pm, dtype: int64"
      ]
     },
     "execution_count": 106,
     "metadata": {},
     "output_type": "execute_result"
    }
   ],
   "source": [
    "gmv_pm_main_offline_stores_2020_2021['new_pm'].value_counts()"
   ]
  },
  {
   "cell_type": "code",
   "execution_count": null,
   "metadata": {},
   "outputs": [],
   "source": [
    "# Список всех магазинов, имеющих other payments в другие периоды без учета каналов\n",
    "stores2 = gmv_pm_main_offline_stores_2020_2021.query('new_pm == \"other\"')['store_id']\n",
    "stores2.unique()"
   ]
  },
  {
   "cell_type": "code",
   "execution_count": null,
   "metadata": {},
   "outputs": [],
   "source": [
    "# off_line Магазины из списка декабря 2021 и по Direct\n",
    "gmv_pm_main_direct_stores_2021 = gmv_pm_main_2020_2021.query('store_id in @stores & new_channel == \"Direct\"')\n",
    "gmv_pm_main_direct_stores_2021.head()"
   ]
  },
  {
   "cell_type": "code",
   "execution_count": 109,
   "metadata": {
    "colab": {
     "base_uri": "https://localhost:8080/"
    },
    "id": "kzkqmRhOgVx8",
    "outputId": "910d03fa-4164-4ebc-844b-c01c6a07dfa5"
   },
   "outputs": [
    {
     "data": {
      "text/plain": [
       "OFF LINE    108028\n",
       "other        17002\n",
       "Name: new_pm, dtype: int64"
      ]
     },
     "execution_count": 109,
     "metadata": {},
     "output_type": "execute_result"
    }
   ],
   "source": [
    "# По Direct\n",
    "gmv_pm_main_direct_stores_2021['new_pm'].value_counts()"
   ]
  },
  {
   "cell_type": "code",
   "execution_count": null,
   "metadata": {},
   "outputs": [],
   "source": [
    "# Список всех магазинов, имеющих other payments в другие периоды по Direct\n",
    "stores3 = gmv_pm_main_offline_stores_2020_2021.query('new_pm == \"other\" & new_channel == \"Direct\"')['store_id'].unique()\n",
    "stores3"
   ]
  },
  {
   "cell_type": "code",
   "execution_count": null,
   "metadata": {},
   "outputs": [],
   "source": [
    "# Новая таблица \n",
    "gmv_pm_main_direct_other_2021 = gmv_pm_main_2020_2021.query('store_id in @stores3 & new_channel == \"Direct\"')\n",
    "\n",
    "gmv_pm_main_direct_other_2021 = gmv_pm_main_direct_other_2021[['period_new', 'store_id', 'gmv', 'new_pm', 'n_orders']]\n",
    "\n",
    "gmv_pm_main_direct_other_2021.head()"
   ]
  },
  {
   "cell_type": "code",
   "execution_count": null,
   "metadata": {},
   "outputs": [],
   "source": [
    "# Делаю сводную\n",
    "stores_other_pm_pivot = gmv_pm_main_direct_other_2021.pivot_table(\n",
    "    index=['store_id', 'new_pm'], \n",
    "    columns='period_new', \n",
    "    values=['gmv', 'n_orders'], aggfunc = 'sum').reset_index().fillna(0)\n",
    "\n",
    "stores_other_pm_pivot.columns = ['store_id', 'payment_method', \\\n",
    "              'n_orders_Jan2020', \\\n",
    "              'n_orders_Feb2020', \\\n",
    "              'n_orders_March2020', \\\n",
    "              'n_orders_Apr2020', \\\n",
    "             'n_orders_May2020', \\\n",
    "             'n_orders_June2020', \\\n",
    "             'n_orders_July2020', \\\n",
    "             'n_orders_Aug2020', \\\n",
    "             'n_orders_Sep2020', \\\n",
    "             'n_orders_Oct2020', \\\n",
    "             'n_orders_Nov2020', \\\n",
    "             'n_orders_Dec2020', \\\n",
    "              'n_orders_Jan2021', \\\n",
    "              'n_orders_Feb2021', \\\n",
    "              'n_orders_March2021', \\\n",
    "              'n_orders_Apr2021', \\\n",
    "             'n_orders_May2021', \\\n",
    "             'n_orders_June2021', \\\n",
    "             'n_orders_July2021', \\\n",
    "             'n_orders_Aug2021', \\\n",
    "             'n_orders_Sep2021', \\\n",
    "             'n_orders_Oct2021', \\\n",
    "             'n_orders_Nov2021', \\\n",
    "             'n_orders_Dec2021', \\\n",
    "             'gmv_Jan2020', \\\n",
    "             'gmv_Feb2020', \\\n",
    "             'gmv_March2020', \\\n",
    "             'gmv_Apr2020', \\\n",
    "             'gmv_May2020', \\\n",
    "             'gmv_June2020', \\\n",
    "             'gmv_July2020', \\\n",
    "             'gmv_Aug2020', \\\n",
    "             'gmv_Sep2020', \\\n",
    "             'gmv_Oct2020', \\\n",
    "             'gmv_Nov2020', \\\n",
    "             'gmv_Dec2020', \\\n",
    "             'gmv_Jan2021', \\\n",
    "             'gmv_Feb2021', \\\n",
    "             'gmv_March2021', \\\n",
    "             'gmv_Apr2021', \\\n",
    "             'gmv_May2021', \\\n",
    "             'gmv_June2021', \\\n",
    "             'gmv_July2021', \\\n",
    "             'gmv_Aug2021', \\\n",
    "             'gmv_Sep2021', \\\n",
    "             'gmv_Oct2021', \\\n",
    "             'gmv_Nov2021', \\\n",
    "             'gmv_Dec2021']\n",
    "\n",
    "stores_other_pm_pivot.head()"
   ]
  },
  {
   "cell_type": "markdown",
   "metadata": {
    "id": "b_j2riLWgVyB"
   },
   "source": [
    "## 5.Carrier"
   ]
  },
  {
   "cell_type": "code",
   "execution_count": null,
   "metadata": {},
   "outputs": [],
   "source": [
    "direct_gmv_main['carrier'] = direct_gmv_main['carrier'] \\\n",
    ".str.replace(r'^custom.*$', r'Custom', case=False) \\\n",
    ".str.replace(r'^Boxberry.*$', r'Boxberry', case=False) \\\n",
    ".str.replace(r'^Яндекс.*$', r'Яндекс', case=False) \\\n",
    ".str.replace('U.S.P.S.', 'USPS') \\\n",
    ".str.replace('Способы доставки от Почты России', 'Почта России') \\\n",
    ".str.replace('Russian Post' , 'Почта России') \\\n",
    ".str.replace(r'^.*(?i)\\bЯндекс\\b.*$', r'Яндекс') \\\n",
    ".str.replace(r'^.*(?i)\\bpickpoint\\b.*$', r'Pickpoint') \\\n",
    ".str.replace(r'^.*(?i)\\bСДЭК\\b.*$', r'СДЭК') \\\n",
    "#.str.replace(r'^.*\\bЯндекс\\b.*$', r'Яндекс', case=False)"
   ]
  },
  {
   "cell_type": "code",
   "execution_count": null,
   "metadata": {},
   "outputs": [],
   "source": [
    "direct_gmv_main['carrier'].unique()"
   ]
  },
  {
   "cell_type": "code",
   "execution_count": null,
   "metadata": {},
   "outputs": [],
   "source": [
    "new_carrier_list = ['<Pickup>', 'UNKNOWN']\n",
    "new_column(direct_gmv_main, 'new_carrier', 'carrier', new_carrier_list)"
   ]
  },
  {
   "cell_type": "code",
   "execution_count": null,
   "metadata": {},
   "outputs": [],
   "source": [
    "# Сводная по годам, carrier \n",
    "carrier_main_2020_2021 = direct_gmv_main.pivot_table(\n",
    "index=['year', 'new_carrier'], columns = 'new_pm', values ='gmv', aggfunc = 'sum').reset_index().fillna(0)\n",
    "\n",
    "carrier_main_2020_2021.columns = ['year', 'carrier', 'off_line_gmv', 'other_gmv']\n",
    "\n",
    "carrier_main_2020_2021['%'] = carrier_main_2020_2021['off_line_gmv'] / (carrier_main_2020_2021['off_line_gmv'] + carrier_main_2020_2021['other_gmv'])*100\n",
    "\n",
    "carrier_main_2020_2021"
   ]
  },
  {
   "cell_type": "code",
   "execution_count": null,
   "metadata": {},
   "outputs": [],
   "source": [
    "# по доставке  в 2020 году\n",
    "carrier_main_2020 = carrier_main_2020_2021.query('year == 2020') \\\n",
    ".rename(columns= {'%' : '%_2020', 'off_line_gmv' : 'off_line_gmv_2020', 'other_gmv' : 'other_gmv_2020'}) \\\n",
    ".sort_values(by='%_2020', ascending=False)\n",
    "\n",
    "#df_carr_meth2020_1 = carrier_main_2020.head(20)\n",
    "carrier_main_2020"
   ]
  },
  {
   "cell_type": "code",
   "execution_count": null,
   "metadata": {},
   "outputs": [],
   "source": [
    "# по доставке  в 2021 году\n",
    "carrier_main_2021 = carrier_main_2020_2021.query('year == 2021') \\\n",
    ".rename(columns= {'%' : '%_2021', 'off_line_gmv' : 'off_line_gmv_2021', 'other_gmv' : 'other_gmv_2021'}) \\\n",
    ".sort_values(by='%_2021', ascending=False)\n",
    "\n",
    "# df_carr_meth2021_1 = carrier_main_2021.head(10)\n",
    "carrier_main_2021"
   ]
  },
  {
   "cell_type": "code",
   "execution_count": null,
   "metadata": {},
   "outputs": [],
   "source": [
    "carrier_2020_2021 = carrier_main_2021.merge(carrier_main_2020, how='left', on='carrier').fillna(0)\n",
    "carrier_2020_2021 = carrier_2020_2021[['carrier', \\\n",
    "                             'off_line_gmv_2020', 'off_line_gmv_2021', \\\n",
    "                             'other_gmv_2020', 'other_gmv_2021', \\\n",
    "                            '%_2020', '%_2021']]\n",
    "carrier_2020_2021.head(20)"
   ]
  }
 ],
 "metadata": {
  "colab": {
   "collapsed_sections": [
    "xiu2T2XWgVvq",
    "Fy3jMucygVv1",
    "YeobaRIegVv7",
    "eTIZKPk-gVv_",
    "UR7S0XWPgVwD",
    "bxWqxbYPgVwG",
    "HLuy4Y1JgVwM",
    "ylLM4f3LgVws",
    "Aitwbb2vgVw0",
    "AmqNpwQ8gVxm",
    "G98YdDohgVxs",
    "b_j2riLWgVyB",
    "A_9DjU1lgVyM"
   ],
   "name": "DM-2469_general_v3.ipynb",
   "provenance": [],
   "toc_visible": true
  },
  "kernelspec": {
   "display_name": "Python 3 (ipykernel)",
   "language": "python",
   "name": "python3"
  },
  "language_info": {
   "codemirror_mode": {
    "name": "ipython",
    "version": 3
   },
   "file_extension": ".py",
   "mimetype": "text/x-python",
   "name": "python",
   "nbconvert_exporter": "python",
   "pygments_lexer": "ipython3",
   "version": "3.10.2"
  },
  "vscode": {
   "interpreter": {
    "hash": "25a782230ced7212a92937f5eb2f63824901e426644a928fe5c914cc84ba9012"
   }
  }
 },
 "nbformat": 4,
 "nbformat_minor": 1
}
