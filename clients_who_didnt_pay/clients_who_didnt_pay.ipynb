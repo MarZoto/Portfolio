{
 "cells": [
  {
   "cell_type": "markdown",
   "metadata": {},
   "source": [
    "\n",
    "# Compare number of paid merchants with the revenue we got"
   ]
  },
  {
   "cell_type": "markdown",
   "metadata": {},
   "source": [
    "- В период с января по апрель 2022 года по Direct + Affiliates найти мерчантов с 0 revenue и проверить эти магазины\n"
   ]
  },
  {
   "cell_type": "markdown",
   "metadata": {},
   "source": [
    "### Импорт библиотек"
   ]
  },
  {
   "cell_type": "code",
   "execution_count": 2,
   "metadata": {},
   "outputs": [],
   "source": [
    "# Импортируем библиотеки\n",
    "import pandas as pd\n",
    "import numpy as np\n",
    "from IPython.display import display\n",
    "import plotly.express as px \n",
    "import matplotlib.pyplot as plt\n",
    "import seaborn as sns\n",
    "import scipy.stats as st\n",
    "from pandas.plotting import scatter_matrix\n",
    "import math\n",
    "#import random\n",
    "import sys\n",
    "import warnings\n",
    "if not sys.warnoptions:\n",
    "       warnings.simplefilter(\"ignore\")\n",
    "from collections import Counter\n",
    "\n",
    "import requests\n",
    "import re\n",
    "from datetime import datetime"
   ]
  },
  {
   "cell_type": "code",
   "execution_count": 3,
   "metadata": {},
   "outputs": [],
   "source": [
    "# Вывод всех строк таблицы на экран\n",
    "from IPython.display import display\n",
    "pd.options.display.float_format = '{:,.2f}'.format\n",
    "pd.set_option('display.max_colwidth', None)\n"
   ]
  },
  {
   "cell_type": "markdown",
   "metadata": {},
   "source": [
    "### Загрузка данных\n"
   ]
  },
  {
   "cell_type": "code",
   "execution_count": 5,
   "metadata": {},
   "outputs": [],
   "source": [
    "# Отчет за апрель\n",
    "from io import BytesIO\n",
    "import requests\n",
    "\n",
    "spreadsheet_id = ''\n",
    "file_name = 'https://docs.google.com/spreadsheets/d/{}/export?format=csv'.format(spreadsheet_id)\n",
    "r = requests.get(file_name)\n",
    "\n",
    "paid_april = pd.read_csv(BytesIO(r.content))\n",
    "paid_april.sample()   \n"
   ]
  },
  {
   "cell_type": "code",
   "execution_count": 7,
   "metadata": {},
   "outputs": [],
   "source": [
    "# Отчет за март\n",
    "from io import BytesIO\n",
    "import requests\n",
    "\n",
    "spreadsheet_id = ''\n",
    "file_name = 'https://docs.google.com/spreadsheets/d/{}/export?format=csv'.format(spreadsheet_id)\n",
    "r = requests.get(file_name)\n",
    "\n",
    "paid_march = pd.read_csv(BytesIO(r.content))\n",
    "paid_march.sample()   "
   ]
  },
  {
   "cell_type": "code",
   "execution_count": 8,
   "metadata": {},
   "outputs": [],
   "source": [
    "# Отчет за февраль\n",
    "from io import BytesIO\n",
    "import requests\n",
    "\n",
    "spreadsheet_id = ''\n",
    "file_name = 'https://docs.google.com/spreadsheets/d/{}/export?format=csv'.format(spreadsheet_id)\n",
    "r = requests.get(file_name)\n",
    "\n",
    "paid_febr = pd.read_csv(BytesIO(r.content))\n",
    "paid_febr.sample()   "
   ]
  },
  {
   "cell_type": "code",
   "execution_count": 9,
   "metadata": {},
   "outputs": [],
   "source": [
    "# Отчет за январь\n",
    "\n",
    "from io import BytesIO\n",
    "import requests\n",
    "\n",
    "spreadsheet_id = ''\n",
    "file_name = 'https://docs.google.com/spreadsheets/d/{}/export?format=csv'.format(spreadsheet_id)\n",
    "r = requests.get(file_name)\n",
    "\n",
    "paid_jan = pd.read_csv(BytesIO(r.content))\n",
    "paid_jan.sample()   "
   ]
  },
  {
   "cell_type": "code",
   "execution_count": 10,
   "metadata": {},
   "outputs": [],
   "source": [
    "# Заливка данных по Revenue\n",
    "\n",
    "from io import BytesIO\n",
    "import requests\n",
    "\n",
    "spreadsheet_id = ''\n",
    "file_name = 'https://docs.google.com/spreadsheets/d/{}/export?format=csv'.format(spreadsheet_id)\n",
    "r = requests.get(file_name)\n",
    "\n",
    "rev_raw = pd.read_csv(BytesIO(r.content))\n",
    "rev_raw.sample()   "
   ]
  },
  {
   "cell_type": "code",
   "execution_count": 18,
   "metadata": {},
   "outputs": [],
   "source": [
    "rev_raw.info()"
   ]
  },
  {
   "cell_type": "code",
   "execution_count": 11,
   "metadata": {},
   "outputs": [],
   "source": [
    "rev_raw = rev_raw[rev_raw['application'] == 'ec']\n",
    "rev_raw"
   ]
  },
  {
   "cell_type": "code",
   "execution_count": 14,
   "metadata": {},
   "outputs": [],
   "source": [
    "rev_raw['application'].value_counts() "
   ]
  },
  {
   "cell_type": "code",
   "execution_count": null,
   "metadata": {},
   "outputs": [],
   "source": [
    "itune_raw = pd.read_csv(r'C:\\Users\\Marina\\Downloads\\revenue report_2022_05_16.csv')\n",
    "itune_raw.head()"
   ]
  },
  {
   "cell_type": "code",
   "execution_count": 15,
   "metadata": {},
   "outputs": [],
   "source": [
    "\n",
    "# Заливка данных\n",
    "\n",
    "from io import BytesIO\n",
    "import requests\n",
    "\n",
    "spreadsheet_id = ''\n",
    "file_name = 'https://docs.google.com/spreadsheets/d/{}/export?format=csv'.format(spreadsheet_id)\n",
    "r = requests.get(file_name)\n",
    "\n",
    "revenue_raw = pd.read_csv(BytesIO(r.content))\n",
    "revenue_raw.sample(10)   "
   ]
  },
  {
   "cell_type": "markdown",
   "metadata": {},
   "source": [
    "### Обработка данных"
   ]
  },
  {
   "cell_type": "code",
   "execution_count": null,
   "metadata": {},
   "outputs": [],
   "source": [
    "def str_replace(df):\n",
    "    df.columns = df.columns.str.replace(' ', '_')\n",
    "    return df"
   ]
  },
  {
   "cell_type": "code",
   "execution_count": 22,
   "metadata": {},
   "outputs": [],
   "source": [
    "# Заменим пробелы в названиях столбцов на _\n",
    "paid_jan.columns = str_replace(paid_jan)\n",
    "paid_febr.columns = str_replace(paid_febr)\n",
    "paid_march.columns = str_replace(paid_march)\n",
    "paid_april.columns = str_replace(paid_april)"
   ]
  },
  {
   "cell_type": "code",
   "execution_count": 19,
   "metadata": {},
   "outputs": [],
   "source": [
    "paid_jan.info()"
   ]
  },
  {
   "cell_type": "code",
   "execution_count": 20,
   "metadata": {},
   "outputs": [],
   "source": [
    "paid_febr.info()"
   ]
  },
  {
   "cell_type": "code",
   "execution_count": 21,
   "metadata": {},
   "outputs": [],
   "source": [
    "paid_march.info()"
   ]
  },
  {
   "cell_type": "code",
   "execution_count": 22,
   "metadata": {},
   "outputs": [],
   "source": [
    "paid_april.info()"
   ]
  },
  {
   "cell_type": "code",
   "execution_count": 27,
   "metadata": {},
   "outputs": [],
   "source": [
    "# Заменим пробелы в названиях столбцов на _\n",
    "rev_raw.columns = rev_raw.columns.str.replace(' ', '_')"
   ]
  },
  {
   "cell_type": "code",
   "execution_count": 28,
   "metadata": {},
   "outputs": [],
   "source": [
    "rev = rev_raw[['store_id', 'revenue_sum,_usd', 'revenue_date:_month']].copy()"
   ]
  },
  {
   "cell_type": "code",
   "execution_count": null,
   "metadata": {},
   "outputs": [],
   "source": [
    "itune = itune_raw[['store_id', 'revenue_sum', 'period']].copy()\n",
    "itune.head()"
   ]
  },
  {
   "cell_type": "markdown",
   "metadata": {},
   "source": [
    "### Используемые функции"
   ]
  },
  {
   "cell_type": "code",
   "execution_count": 30,
   "metadata": {},
   "outputs": [],
   "source": [
    "# Разбивка по периодам для просмотра\n",
    "def period_count(df):\n",
    "    print(df['period'].value_counts())"
   ]
  },
  {
   "cell_type": "code",
   "execution_count": 31,
   "metadata": {},
   "outputs": [],
   "source": [
    "# Создание таблиц по периодам\n",
    "def period(df, x1):\n",
    "    df1 = df[df['period'] == x1]\n",
    "    return df1"
   ]
  },
  {
   "cell_type": "code",
   "execution_count": 32,
   "metadata": {},
   "outputs": [],
   "source": [
    "# Вывод размера таблиц после смерживния\n",
    "def month_stat(df1, df2, df3):\n",
    "    df_raw = df1.append(df2, sort='False')\n",
    "    \n",
    "    df = df_raw.pivot_table(index='store_id', values='revenue', aggfunc = 'sum').reset_index()\n",
    "    \n",
    "    display(pd.isnull(df['revenue']).value_counts())\n",
    "    df_all = df3.merge(df, on='store_id', how='left')\n",
    "    print(df_all.shape)\n",
    "    # Проверка revenue на 0\n",
    "    print(pd.isnull(df_all['revenue']).value_counts())"
   ]
  },
  {
   "cell_type": "code",
   "execution_count": 33,
   "metadata": {},
   "outputs": [],
   "source": [
    "# Создание таблиц с значением -2 вместо nan\n",
    "def month(df1, df2):\n",
    "    \n",
    "    df_all = df1.merge(df2, on='store_id', how='left')\n",
    "    \n",
    "    df_all['total_revenue'] = df_all['total_revenue'].fillna(-2)\n",
    "    \n",
    "    return df_all"
   ]
  },
  {
   "cell_type": "code",
   "execution_count": 34,
   "metadata": {},
   "outputs": [],
   "source": [
    "# Список мерчантов с nan после мержа с 97 отчетом помесячно\n",
    "def func_nan(df):\n",
    "    df1 = df[df['total_revenue'] == -2]\n",
    "    sid = df1['store_id'].unique()\n",
    "    return sid"
   ]
  },
  {
   "cell_type": "code",
   "execution_count": 35,
   "metadata": {},
   "outputs": [],
   "source": [
    "# Список мерчантов у кого 0 в revenue после мержа\n",
    "def func_zero(df):\n",
    "    df1 = df[df['total_revenue'] == 0]\n",
    "    sid = df1['store_id'].unique()\n",
    "    return sid"
   ]
  },
  {
   "cell_type": "code",
   "execution_count": 36,
   "metadata": {},
   "outputs": [],
   "source": [
    "# поиск одинаковых SID в месяцах\n",
    "def n_cross(df1, df2, df3, df4, x):\n",
    "    # январь по down с февралем\n",
    "    common_items_1 = list((Counter(df1) & Counter(df2)).elements())\n",
    "    #return common_items_1\n",
    "    print(f' Одинаковые SID в январе- феврале, {x} {len(common_items_1)}') \n",
    "    # февраль по down с мартом\n",
    "    common_items_2 = list((Counter(df2) & Counter(df3)).elements())\n",
    "    #return common_items_2\n",
    "    print(f' Одинаковые SID в феврале-марте, {x} {len(common_items_2)}')  \n",
    "    # март по down с апрелем\n",
    "    common_items_3 = list((Counter(df3) & Counter(df4)).elements())\n",
    "    #return common_items_3\n",
    "    print(f' Одинаковые SID в марте-апреле {x}  {len(common_items_3)}')  "
   ]
  },
  {
   "cell_type": "code",
   "execution_count": 38,
   "metadata": {},
   "outputs": [],
   "source": [
    "# поиск одинаковых SID в 4 месяцах\n",
    "def month_four(df1, df2, df3, df4, x):\n",
    "    common_items_1 = list((Counter(df1) & Counter(df2) & Counter(df3) & Counter(df4)).elements())\n",
    "    #return common_items_1\n",
    "    print(f'Одинаковые SID по всем 4 месяцам {x} {len(common_items_1) }')\n",
    "\n"
   ]
  },
  {
   "cell_type": "code",
   "execution_count": 39,
   "metadata": {},
   "outputs": [],
   "source": [
    "# Revenue по 203 отчету и 129+567\n",
    "def total(df, df1, df2, lst):\n",
    "    for value in lst:\n",
    "        k = df[df['period'] == value]['revenue'].sum()\n",
    "        a = df1[df1['period'] == value]['revenue'].sum()\n",
    "        b = df2[df2['period'] == value]['revenue'].sum()\n",
    "        print(f'Revenue в {value} == {k} по 203 отчету')\n",
    "        print()\n",
    "        print(f'Revenue в {value} == {a + b} по 567 и 129 отчету')\n",
    "        print()\n",
    "        print(f'Difference revenue в {value} == {k - a - b} по 203 отчету')\n",
    "        print()"
   ]
  },
  {
   "cell_type": "markdown",
   "metadata": {},
   "source": [
    "### Расчетная часть"
   ]
  },
  {
   "cell_type": "code",
   "execution_count": null,
   "metadata": {},
   "outputs": [],
   "source": [
    "itune_1 = itune.pivot_table(index=['store_id', 'period'], \\\n",
    "                          values='revenue_sum', aggfunc = 'sum') \\\n",
    ".reset_index().rename(columns={'revenue_sum' : 'revenue'})\n",
    "\n",
    "itune_1.head()"
   ]
  },
  {
   "cell_type": "code",
   "execution_count": null,
   "metadata": {},
   "outputs": [],
   "source": [
    "rev_1 = rev.pivot_table(index=['store_id', 'revenue_date:_month'], \\\n",
    "                        values='revenue_sum,_usd', \\\n",
    "                        aggfunc = 'sum') \\\n",
    ".reset_index() \\\n",
    ".rename(columns={'revenue_sum,_usd' : 'revenue', \\\n",
    "                 'revenue_date:_month' : 'period'})\n",
    "\n",
    "rev_1.head()"
   ]
  },
  {
   "cell_type": "code",
   "execution_count": 43,
   "metadata": {},
   "outputs": [],
   "source": [
    "rev_1['type_revenue'] = 'internal'\n",
    "itune_1['type_revenue'] = 'itunes'"
   ]
  },
  {
   "cell_type": "code",
   "execution_count": null,
   "metadata": {},
   "outputs": [],
   "source": [
    "df_total = rev_1.append(itune_1, sort='False')\n",
    "df_total.head()"
   ]
  },
  {
   "cell_type": "code",
   "execution_count": 45,
   "metadata": {},
   "outputs": [],
   "source": [
    "df_total_pivot = df_total.pivot_table(index=['store_id', 'period'], \\\n",
    "                                      columns='type_revenue', \\\n",
    "                                      values='revenue', \\\n",
    "                                      aggfunc='sum').reset_index().fillna(0)\n",
    "\n",
    "df_total_pivot['total'] = df_total_pivot['internal'] + df_total_pivot['itunes']"
   ]
  },
  {
   "cell_type": "code",
   "execution_count": null,
   "metadata": {},
   "outputs": [],
   "source": [
    "df_total_pivot.columns= ['store_id', 'period', \\\n",
    "                         'internal_revenue', 'itunes_revenue', 'total_revenue']\n",
    "df_total_pivot"
   ]
  },
  {
   "cell_type": "code",
   "execution_count": 47,
   "metadata": {},
   "outputs": [],
   "source": [
    "df_jan = period(df_total_pivot, '2022-01')\n",
    "df_feb = period(df_total_pivot, \"2022-02\")\n",
    "df_mar = period(df_total_pivot,\"2022-03\")\n",
    "df_apr = period(df_total_pivot, \"2022-04\")"
   ]
  },
  {
   "cell_type": "markdown",
   "metadata": {},
   "source": [
    "### January 2022"
   ]
  },
  {
   "cell_type": "code",
   "execution_count": null,
   "metadata": {},
   "outputs": [],
   "source": [
    "paid_jan['store_id'].count()"
   ]
  },
  {
   "cell_type": "code",
   "execution_count": null,
   "metadata": {},
   "outputs": [],
   "source": [
    "all_jan = month(paid_jan, df_jan)\n",
    "all_jan.head()"
   ]
  },
  {
   "cell_type": "code",
   "execution_count": null,
   "metadata": {},
   "outputs": [],
   "source": [
    "# список кого нет в январе\n",
    "jan_nan = func_nan(all_jan)\n",
    "jan_nan"
   ]
  },
  {
   "cell_type": "code",
   "execution_count": 51,
   "metadata": {},
   "outputs": [
    {
     "data": {
      "text/plain": [
       "1170"
      ]
     },
     "execution_count": 51,
     "metadata": {},
     "output_type": "execute_result"
    }
   ],
   "source": [
    "len(jan_nan)"
   ]
  },
  {
   "cell_type": "code",
   "execution_count": 52,
   "metadata": {},
   "outputs": [
    {
     "data": {
      "text/plain": [
       "181"
      ]
     },
     "execution_count": 52,
     "metadata": {},
     "output_type": "execute_result"
    }
   ],
   "source": [
    "# Список у кого 0\n",
    "jan_zero = func_zero(all_jan)\n",
    "len(jan_zero)"
   ]
  },
  {
   "cell_type": "markdown",
   "metadata": {},
   "source": [
    "### February"
   ]
  },
  {
   "cell_type": "code",
   "execution_count": null,
   "metadata": {},
   "outputs": [],
   "source": [
    "paid_febr['store_id'].count()"
   ]
  },
  {
   "cell_type": "code",
   "execution_count": null,
   "metadata": {},
   "outputs": [],
   "source": [
    "all_feb = month(paid_febr, df_feb)\n",
    "all_feb.head()"
   ]
  },
  {
   "cell_type": "code",
   "execution_count": null,
   "metadata": {},
   "outputs": [],
   "source": [
    "all_feb.info()"
   ]
  },
  {
   "cell_type": "code",
   "execution_count": null,
   "metadata": {},
   "outputs": [],
   "source": [
    "# список кого нет в феврале\n",
    "feb_nan = func_nan(all_feb)\n",
    "feb_nan"
   ]
  },
  {
   "cell_type": "code",
   "execution_count": 56,
   "metadata": {},
   "outputs": [
    {
     "data": {
      "text/plain": [
       "190"
      ]
     },
     "execution_count": 56,
     "metadata": {},
     "output_type": "execute_result"
    }
   ],
   "source": [
    "# Список у кого 0\n",
    "feb_zero = func_zero(all_feb)\n",
    "len(feb_zero)"
   ]
  },
  {
   "cell_type": "markdown",
   "metadata": {},
   "source": [
    "### March"
   ]
  },
  {
   "cell_type": "code",
   "execution_count": null,
   "metadata": {},
   "outputs": [],
   "source": [
    "all_mar = month(paid_march, df_mar)\n",
    "all_mar.head()"
   ]
  },
  {
   "cell_type": "code",
   "execution_count": null,
   "metadata": {},
   "outputs": [],
   "source": [
    "# список кого нет в марте\n",
    "mar_nan = func_nan(all_mar)\n",
    "mar_nan"
   ]
  },
  {
   "cell_type": "code",
   "execution_count": 59,
   "metadata": {},
   "outputs": [
    {
     "data": {
      "text/plain": [
       "272"
      ]
     },
     "execution_count": 59,
     "metadata": {},
     "output_type": "execute_result"
    }
   ],
   "source": [
    "# Список у кого 0\n",
    "mar_zero = func_zero(all_mar)\n",
    "len(mar_zero)"
   ]
  },
  {
   "cell_type": "markdown",
   "metadata": {},
   "source": [
    "### April"
   ]
  },
  {
   "cell_type": "code",
   "execution_count": null,
   "metadata": {},
   "outputs": [],
   "source": [
    "all_apr = month(paid_april, df_apr)\n",
    "all_apr.head()"
   ]
  },
  {
   "cell_type": "code",
   "execution_count": null,
   "metadata": {},
   "outputs": [],
   "source": [
    "# список кого нет в апреле\n",
    "apr_nan = func_nan(all_apr)\n",
    "apr_nan"
   ]
  },
  {
   "cell_type": "code",
   "execution_count": 62,
   "metadata": {},
   "outputs": [
    {
     "data": {
      "text/plain": [
       "281"
      ]
     },
     "execution_count": 62,
     "metadata": {},
     "output_type": "execute_result"
    }
   ],
   "source": [
    "# Список у кого 0\n",
    "apr_zero = func_zero(all_apr)\n",
    "len(apr_zero)"
   ]
  },
  {
   "cell_type": "markdown",
   "metadata": {},
   "source": [
    "### Общая часть"
   ]
  },
  {
   "cell_type": "markdown",
   "metadata": {},
   "source": [
    "**Переменные:**\n",
    "- jan_down, jan_sid, \n",
    "- feb_down, feb_sid,\n",
    "- march_down, march_sid,\n",
    "- april_down, april_sid"
   ]
  },
  {
   "cell_type": "code",
   "execution_count": 63,
   "metadata": {},
   "outputs": [
    {
     "name": "stdout",
     "output_type": "stream",
     "text": [
      " Одинаковые SID в январе- феврале, у кого NAN в 97 отчете 329\n",
      " Одинаковые SID в феврале-марте, у кого NAN в 97 отчете 335\n",
      " Одинаковые SID в марте-апреле у кого NAN в 97 отчете  339\n"
     ]
    }
   ],
   "source": [
    "n_cross(jan_nan, feb_nan, mar_nan, apr_nan, 'у кого NAN в 97 отчете')"
   ]
  },
  {
   "cell_type": "code",
   "execution_count": 64,
   "metadata": {},
   "outputs": [
    {
     "name": "stdout",
     "output_type": "stream",
     "text": [
      " Одинаковые SID в январе- феврале, у кого revenue = 0 в 97 отчете 164\n",
      " Одинаковые SID в феврале-марте, у кого revenue = 0 в 97 отчете 179\n",
      " Одинаковые SID в марте-апреле у кого revenue = 0 в 97 отчете  250\n"
     ]
    }
   ],
   "source": [
    "n_cross(jan_zero, feb_zero, mar_zero, apr_zero, 'у кого revenue = 0 в 97 отчете')"
   ]
  },
  {
   "cell_type": "code",
   "execution_count": 65,
   "metadata": {},
   "outputs": [
    {
     "name": "stdout",
     "output_type": "stream",
     "text": [
      "Одинаковые SID по всем 4 месяцам у кого NAN в 97 отчете 226\n"
     ]
    }
   ],
   "source": [
    "month_four(jan_nan, feb_nan, mar_nan, apr_nan, 'у кого NAN в 97 отчете')"
   ]
  },
  {
   "cell_type": "code",
   "execution_count": 66,
   "metadata": {},
   "outputs": [
    {
     "name": "stdout",
     "output_type": "stream",
     "text": [
      "Одинаковые SID по всем 4 месяцам у кого revenue = 0 в 97 отчете 149\n"
     ]
    }
   ],
   "source": [
    "month_four(jan_zero, feb_zero, mar_zero, apr_zero, 'у кого revenue = 0 в 97 отчете')"
   ]
  },
  {
   "cell_type": "code",
   "execution_count": 68,
   "metadata": {},
   "outputs": [],
   "source": [
    "lst =['2022-01', '2022-02', '2022-03', '2022-04']      "
   ]
  },
  {
   "cell_type": "code",
   "execution_count": 69,
   "metadata": {},
   "outputs": [],
   "source": [
    "def total(df, df1, lst):\n",
    "    for value in lst:\n",
    "        k = df[df['period'] == value]['revenue'].sum()\n",
    "        a = df1[df1['period'] == value]['total_revenue'].sum()\n",
    "        print(f'Revenue в {value} == {k} по 203 отчету')\n",
    "        print()\n",
    "        print(f'Revenue в {value} == {a} по 567 и 129 отчету')\n",
    "        print()\n",
    "        print(f'Difference revenue в {value} == {k - a} по 203 отчету')\n",
    "        print()"
   ]
  },
  {
   "cell_type": "code",
   "execution_count": 17,
   "metadata": {},
   "outputs": [],
   "source": [
    "total(revenue_raw, df_total_pivot, lst)"
   ]
  },
  {
   "cell_type": "code",
   "execution_count": 71,
   "metadata": {},
   "outputs": [],
   "source": [
    "# поиск одинаковых SID в 4 месяцах\n",
    "def month_four_1(df1, df2, df3, df4, x):\n",
    "    common_items_1 = list((Counter(df1) & Counter(df2) & Counter(df3) & Counter(df4)).elements())\n",
    "    return common_items_1"
   ]
  },
  {
   "cell_type": "code",
   "execution_count": null,
   "metadata": {},
   "outputs": [],
   "source": [
    "nan_four_lst = month_four_1(jan_nan, feb_nan, mar_nan, apr_nan, 'кого нет в 97 отчете')\n",
    "nan_four = pd.DataFrame({'store_id': nan_four_lst})\n",
    "\n",
    "nan_four"
   ]
  },
  {
   "cell_type": "code",
   "execution_count": 73,
   "metadata": {},
   "outputs": [
    {
     "name": "stdout",
     "output_type": "stream",
     "text": [
      "<class 'pandas.core.frame.DataFrame'>\n",
      "RangeIndex: 226 entries, 0 to 225\n",
      "Data columns (total 1 columns):\n",
      " #   Column    Non-Null Count  Dtype\n",
      "---  ------    --------------  -----\n",
      " 0   store_id  226 non-null    int64\n",
      "dtypes: int64(1)\n",
      "memory usage: 1.9 KB\n"
     ]
    }
   ],
   "source": [
    "nan_four.info()"
   ]
  },
  {
   "cell_type": "code",
   "execution_count": 77,
   "metadata": {},
   "outputs": [],
   "source": [
    "df = pd.DataFrame({'statistics': ['total_paid', 'n_Nan'], \\\n",
    "                   'jan_22': [paid_jan['store_id'].count(), len(jan_nan)], \\\n",
    "                  'feb_22': [paid_febr['store_id'].count(), len(feb_nan)], \\\n",
    "                  'mar_22' : [paid_march['store_id'].count(), len(mar_nan)], \\\n",
    "                  'apr_22' : [paid_april['store_id'].count(), len(apr_nan)]})"
   ]
  },
  {
   "cell_type": "code",
   "execution_count": 79,
   "metadata": {},
   "outputs": [],
   "source": [
    "jan_nan_1 = pd.DataFrame({'store_id': jan_nan})\n"
   ]
  },
  {
   "cell_type": "code",
   "execution_count": 80,
   "metadata": {},
   "outputs": [],
   "source": [
    "feb_nan_1 = pd.DataFrame({'store_id': feb_nan})"
   ]
  },
  {
   "cell_type": "code",
   "execution_count": 81,
   "metadata": {},
   "outputs": [],
   "source": [
    "mar_nan_1 = pd.DataFrame({'store_id': mar_nan})"
   ]
  },
  {
   "cell_type": "code",
   "execution_count": 82,
   "metadata": {},
   "outputs": [],
   "source": [
    "apr_nan_1 = pd.DataFrame({'store_id': apr_nan})"
   ]
  },
  {
   "cell_type": "code",
   "execution_count": 142,
   "metadata": {},
   "outputs": [],
   "source": [
    "# writer = pd.ExcelWriter('stat_paid_2.xlsx') \n",
    "# df.to_excel(writer, sheet_name='whole_stat', index=False)     \n",
    "# jan_rev.to_excel(writer, sheet_name='jan_22', index=False)\n",
    "# feb_rev.to_excel(writer, sheet_name='feb_22', index=False)\n",
    "# mar_rev.to_excel(writer, sheet_name='mar_22', index=False)\n",
    "# apr_rev.to_excel(writer, sheet_name='apr_22', index=False)\n",
    "# nan_four_rev_1.to_excel(writer, sheet_name='four_months', index=False)\n",
    "# writer.save()\n",
    "# writer.close()"
   ]
  }
 ],
 "metadata": {
  "kernelspec": {
   "display_name": "Python 3.10.2 64-bit",
   "language": "python",
   "name": "python3"
  },
  "language_info": {
   "codemirror_mode": {
    "name": "ipython",
    "version": 3
   },
   "file_extension": ".py",
   "mimetype": "text/x-python",
   "name": "python",
   "nbconvert_exporter": "python",
   "pygments_lexer": "ipython3",
   "version": "3.10.2"
  },
  "vscode": {
   "interpreter": {
    "hash": "25a782230ced7212a92937f5eb2f63824901e426644a928fe5c914cc84ba9012"
   }
  }
 },
 "nbformat": 4,
 "nbformat_minor": 4
}
